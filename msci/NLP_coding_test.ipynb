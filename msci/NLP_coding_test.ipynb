{
 "cells": [
  {
   "cell_type": "markdown",
   "metadata": {},
   "source": [
    "# Drug Review Dataset (Druglib.com) Data Set \n",
    "\n",
    "Please visit the UCI Machine Learning Repository to download the data set: http://archive.ics.uci.edu/ml/datasets/Drug+Review+Dataset+%28Druglib.com%29\n",
    "<br><br>\n",
    "<b>Summary of Data Set:</b><br>\n",
    "The dataset provides patient reviews on specific drugs along with related conditions. Furthermore, reviews are grouped into reports on the three aspects benefits, side effects and overall comment. Additionally, ratings are available concerning overall satisfaction as well as a 5 step side effect rating and a 5 step effectiveness rating.<br>\n",
    "The UCI Repository contains additional information about the dataset.\n",
    "\n",
    "<br><br>Citation:<br>\n",
    "<i>Surya Kallumadi <br>\n",
    "Kansas State University <br>\n",
    "Manhattan, Kansas, USA <br>\n",
    "surya '@' ksu.edu <br><br>\n",
    "\n",
    "Felix Gräßer <br>\n",
    "Institut für Biomedizinische Technik <br>\n",
    "Technische Universität Dresden <br>\n",
    "Dresden, Germany <br>\n",
    "felix.graesser '@' tu-dresden.de</i>"
   ]
  },
  {
   "cell_type": "markdown",
   "metadata": {},
   "source": [
    "# Q. The Task\n",
    "1. Exploratory data analysis - show how the various aspects of the data are related. For example, are drugs with high ratings also highly effective? \n",
    "2. Train a model that predicts the drug rating.\n",
    "3. Explore the model results. For example, why might a drug be highly rated? What sort of side effects contribute to a low rating?"
   ]
  },
  {
   "cell_type": "code",
   "execution_count": 1,
   "metadata": {},
   "outputs": [],
   "source": [
    "import pandas as pd\n",
    "import matplotlib.pyplot as plt\n",
    "from mpl_toolkits.mplot3d import Axes3D\n",
    "from vaderSentiment.vaderSentiment import SentimentIntensityAnalyzer"
   ]
  },
  {
   "cell_type": "code",
   "execution_count": 2,
   "metadata": {},
   "outputs": [],
   "source": [
    "import re\n",
    "import numpy as np"
   ]
  },
  {
   "cell_type": "code",
   "execution_count": 3,
   "metadata": {},
   "outputs": [
    {
     "name": "stdout",
     "output_type": "stream",
     "text": [
      "3107 observations in train dataset\n"
     ]
    },
    {
     "data": {
      "text/html": [
       "<div>\n",
       "<style scoped>\n",
       "    .dataframe tbody tr th:only-of-type {\n",
       "        vertical-align: middle;\n",
       "    }\n",
       "\n",
       "    .dataframe tbody tr th {\n",
       "        vertical-align: top;\n",
       "    }\n",
       "\n",
       "    .dataframe thead th {\n",
       "        text-align: right;\n",
       "    }\n",
       "</style>\n",
       "<table border=\"1\" class=\"dataframe\">\n",
       "  <thead>\n",
       "    <tr style=\"text-align: right;\">\n",
       "      <th></th>\n",
       "      <th>Unnamed: 0</th>\n",
       "      <th>urlDrugName</th>\n",
       "      <th>rating</th>\n",
       "      <th>effectiveness</th>\n",
       "      <th>sideEffects</th>\n",
       "      <th>condition</th>\n",
       "      <th>benefitsReview</th>\n",
       "      <th>sideEffectsReview</th>\n",
       "      <th>commentsReview</th>\n",
       "    </tr>\n",
       "  </thead>\n",
       "  <tbody>\n",
       "    <tr>\n",
       "      <th>0</th>\n",
       "      <td>2202</td>\n",
       "      <td>enalapril</td>\n",
       "      <td>4</td>\n",
       "      <td>Highly Effective</td>\n",
       "      <td>Mild Side Effects</td>\n",
       "      <td>management of congestive heart failure</td>\n",
       "      <td>slowed the progression of left ventricular dys...</td>\n",
       "      <td>cough, hypotension , proteinuria, impotence , ...</td>\n",
       "      <td>monitor blood pressure , weight and asses for ...</td>\n",
       "    </tr>\n",
       "    <tr>\n",
       "      <th>1</th>\n",
       "      <td>3117</td>\n",
       "      <td>ortho-tri-cyclen</td>\n",
       "      <td>1</td>\n",
       "      <td>Highly Effective</td>\n",
       "      <td>Severe Side Effects</td>\n",
       "      <td>birth prevention</td>\n",
       "      <td>Although this type of birth control has more c...</td>\n",
       "      <td>Heavy Cycle, Cramps, Hot Flashes, Fatigue, Lon...</td>\n",
       "      <td>I Hate This Birth Control, I Would Not Suggest...</td>\n",
       "    </tr>\n",
       "    <tr>\n",
       "      <th>2</th>\n",
       "      <td>1146</td>\n",
       "      <td>ponstel</td>\n",
       "      <td>10</td>\n",
       "      <td>Highly Effective</td>\n",
       "      <td>No Side Effects</td>\n",
       "      <td>menstrual cramps</td>\n",
       "      <td>I was used to having cramps so badly that they...</td>\n",
       "      <td>Heavier bleeding and clotting than normal.</td>\n",
       "      <td>I took 2 pills at the onset of my menstrual cr...</td>\n",
       "    </tr>\n",
       "    <tr>\n",
       "      <th>3</th>\n",
       "      <td>3947</td>\n",
       "      <td>prilosec</td>\n",
       "      <td>3</td>\n",
       "      <td>Marginally Effective</td>\n",
       "      <td>Mild Side Effects</td>\n",
       "      <td>acid reflux</td>\n",
       "      <td>The acid reflux went away for a few months aft...</td>\n",
       "      <td>Constipation, dry mouth and some mild dizzines...</td>\n",
       "      <td>I was given Prilosec prescription at a dose of...</td>\n",
       "    </tr>\n",
       "    <tr>\n",
       "      <th>4</th>\n",
       "      <td>1951</td>\n",
       "      <td>lyrica</td>\n",
       "      <td>2</td>\n",
       "      <td>Marginally Effective</td>\n",
       "      <td>Severe Side Effects</td>\n",
       "      <td>fibromyalgia</td>\n",
       "      <td>I think that the Lyrica was starting to help w...</td>\n",
       "      <td>I felt extremely drugged and dopey.  Could not...</td>\n",
       "      <td>See above</td>\n",
       "    </tr>\n",
       "  </tbody>\n",
       "</table>\n",
       "</div>"
      ],
      "text/plain": [
       "   Unnamed: 0       urlDrugName  rating         effectiveness  \\\n",
       "0        2202         enalapril       4      Highly Effective   \n",
       "1        3117  ortho-tri-cyclen       1      Highly Effective   \n",
       "2        1146           ponstel      10      Highly Effective   \n",
       "3        3947          prilosec       3  Marginally Effective   \n",
       "4        1951            lyrica       2  Marginally Effective   \n",
       "\n",
       "           sideEffects                               condition  \\\n",
       "0    Mild Side Effects  management of congestive heart failure   \n",
       "1  Severe Side Effects                        birth prevention   \n",
       "2      No Side Effects                        menstrual cramps   \n",
       "3    Mild Side Effects                             acid reflux   \n",
       "4  Severe Side Effects                            fibromyalgia   \n",
       "\n",
       "                                      benefitsReview  \\\n",
       "0  slowed the progression of left ventricular dys...   \n",
       "1  Although this type of birth control has more c...   \n",
       "2  I was used to having cramps so badly that they...   \n",
       "3  The acid reflux went away for a few months aft...   \n",
       "4  I think that the Lyrica was starting to help w...   \n",
       "\n",
       "                                   sideEffectsReview  \\\n",
       "0  cough, hypotension , proteinuria, impotence , ...   \n",
       "1  Heavy Cycle, Cramps, Hot Flashes, Fatigue, Lon...   \n",
       "2         Heavier bleeding and clotting than normal.   \n",
       "3  Constipation, dry mouth and some mild dizzines...   \n",
       "4  I felt extremely drugged and dopey.  Could not...   \n",
       "\n",
       "                                      commentsReview  \n",
       "0  monitor blood pressure , weight and asses for ...  \n",
       "1  I Hate This Birth Control, I Would Not Suggest...  \n",
       "2  I took 2 pills at the onset of my menstrual cr...  \n",
       "3  I was given Prilosec prescription at a dose of...  \n",
       "4                                          See above  "
      ]
     },
     "execution_count": 3,
     "metadata": {},
     "output_type": "execute_result"
    }
   ],
   "source": [
    "df = pd.read_csv('drugLibTrain_raw.tsv', sep='\\t')\n",
    "print(len(df), \"observations in train dataset\")\n",
    "df.head()"
   ]
  },
  {
   "cell_type": "markdown",
   "metadata": {},
   "source": [
    "**Attribute Information:**\n",
    "\n",
    "1. urlDrugName (categorical): name of drug \n",
    "2. condition (categorical): name of condition \n",
    "3. benefitsReview (text): patient on benefits \n",
    "4. sideEffectsReview (text): patient on side effects \n",
    "5. commentsReview (text): overall patient comment \n",
    "6. rating (numerical): 10 star patient rating \n",
    "7. sideEffects (categorical): 5 step side effect rating \n",
    "8. effectiveness (categorical): 5 step effectiveness rating"
   ]
  },
  {
   "cell_type": "markdown",
   "metadata": {},
   "source": [
    "# 1 Exploratory Analysis"
   ]
  },
  {
   "cell_type": "markdown",
   "metadata": {},
   "source": [
    "## 1.1 Distribution of Ratings \n",
    "We begin out exploratory analysis by checking how the ratings are skewed in distribution"
   ]
  },
  {
   "cell_type": "code",
   "execution_count": 4,
   "metadata": {},
   "outputs": [
    {
     "data": {
      "image/png": "[encoded data removed]",
      "text/plain": [
       "<Figure size 432x288 with 1 Axes>"
      ]
     },
     "metadata": {
      "needs_background": "light"
     },
     "output_type": "display_data"
    }
   ],
   "source": [
    "plt.hist(df['rating'])\n",
    "plt.xlabel('Ratings')\n",
    "plt.ylabel('Frequency')\n",
    "plt.title('Distribution of ratings')\n",
    "plt.show()"
   ]
  },
  {
   "cell_type": "markdown",
   "metadata": {},
   "source": [
    "## 1.2 ratings vs effectiveness and side effects\n",
    "It will be interested to see how ratings are affected by side effects and effectiveness <br>\n",
    "For this representation, side effects and effectiveness are represented numerically as follows:<br>\n",
    "\n",
    "**Effectiveness**\n",
    "- \"Ineffective\":0,\n",
    "- \"Marginally Effective\":1,\n",
    "- \"Moderately Effective\":2,\n",
    "- \"Considerably Effective\":3,\n",
    "- \"Highly Effective\":4\n",
    "\n",
    "**Side Effects**\n",
    "- \"Extremely Severe Side Effects\":0,\n",
    "- \"Severe Side Effects\":1,\n",
    "- \"Moderate Side Effects\":2,\n",
    "- \"Mild Side Effects\":3,\n",
    "- \"No Side Effects\":4"
   ]
  },
  {
   "cell_type": "code",
   "execution_count": 5,
   "metadata": {},
   "outputs": [],
   "source": [
    "rating_exp=df[['rating','effectiveness','sideEffects']]\n",
    "rating_grouped=rating_exp.groupby(['effectiveness','sideEffects']).mean().reset_index()"
   ]
  },
  {
   "cell_type": "code",
   "execution_count": 6,
   "metadata": {},
   "outputs": [],
   "source": [
    "rating_grouped=rating_exp.groupby(['effectiveness','sideEffects']).mean().reset_index()"
   ]
  },
  {
   "cell_type": "code",
   "execution_count": 7,
   "metadata": {},
   "outputs": [],
   "source": [
    "effectiveness_dict={\"Ineffective\":0,\n",
    "                    \"Marginally Effective\":1,\n",
    "                    \"Moderately Effective\":2,\n",
    "                    \"Considerably Effective\":3,\n",
    "                    \"Highly Effective\":4\n",
    "                   }\n",
    "sideEffects_dict={\"Extremely Severe Side Effects\":0,\n",
    "                    \"Severe Side Effects\":1,\n",
    "                    \"Moderate Side Effects\":2,\n",
    "                    \"Mild Side Effects\":3,\n",
    "                    \"No Side Effects\":4\n",
    "                   }"
   ]
  },
  {
   "cell_type": "code",
   "execution_count": 8,
   "metadata": {},
   "outputs": [],
   "source": [
    "rating_grouped['effectiveness']=rating_grouped['effectiveness'].map(lambda l: effectiveness_dict[l])\n",
    "rating_grouped['sideEffects']=rating_grouped['sideEffects'].map(lambda l: sideEffects_dict[l])"
   ]
  },
  {
   "cell_type": "code",
   "execution_count": 9,
   "metadata": {},
   "outputs": [
    {
     "data": {
      "image/png": "[encoded data removed]",
      "text/plain": [
       "<Figure size 720x576 with 1 Axes>"
      ]
     },
     "metadata": {
      "needs_background": "light"
     },
     "output_type": "display_data"
    }
   ],
   "source": [
    "fig = plt.figure(figsize=(10,8))\n",
    "ax = plt.axes(projection='3d')\n",
    "ax.plot_trisurf(rating_grouped['sideEffects'], rating_grouped['effectiveness'], rating_grouped['rating'], cmap='viridis', edgecolor='none')\n",
    "ax.set_xlabel('sideEffects')\n",
    "ax.set_ylabel('effectiveness')\n",
    "ax.set_zlabel('rating')\n",
    "fig.tight_layout()\n",
    "ax.view_init(30, 235)\n",
    "plt.title('Ratings vs Side Effects & Effectiveness')\n",
    "plt.show()\n",
    "\n"
   ]
  },
  {
   "cell_type": "markdown",
   "metadata": {},
   "source": [
    "**Observations:**<br>\n",
    "It is clear from the above 3D plot that highly effective drugs with negligible side effects are rated very highly."
   ]
  },
  {
   "cell_type": "markdown",
   "metadata": {},
   "source": [
    "## 1.2 Exploratory Analysis using VaderSentiment\n",
    "In the Sentiment Analysis area, there are excellent packages available in Python which have been trained over a large corpus of words. One such toolkit is VaderSentiment. VADER (Valence Aware Dictionary and sEntiment Reasoner) is a lexicon and rule-based sentiment analysis tool that is specifically attuned to sentiments expressed in social media. <br><br>\n",
    "The idea behind using VaderSentiment is to use pretrained packages to extract sentiment and check if this sentiment can be a good predictor for ratings of the drugs. Additionally, prediction achieved using these packages create a good baseline to validate the performance for model which we implement later. However, before employing such packages blindly, it is worthwhile to conduct a brief exploratory analysis.\n",
    "\n",
    "<br>*Some part of description borrowed from https://medium.com/analytics-vidhya/simplifying-social-media-sentiment-analysis-using-vader-in-python-f9e6ec6fc52f*<br>"
   ]
  },
  {
   "cell_type": "code",
   "execution_count": 10,
   "metadata": {},
   "outputs": [],
   "source": [
    "analyser = SentimentIntensityAnalyzer()\n",
    "def sentiment_scores(sentence):\n",
    "    score = analyser.polarity_scores(sentence)\n",
    "    return score\n",
    "def mean(x1,x2,x3):\n",
    "    return (x1+x2+x3)/3"
   ]
  },
  {
   "cell_type": "code",
   "execution_count": 11,
   "metadata": {},
   "outputs": [],
   "source": [
    "df['sideeffects_sentiment']=df['sideEffectsReview'].map(lambda l: sentiment_scores(l)['compound'] if type(l) == str else 0)\n",
    "df['benefits_sentiment']=df['benefitsReview'].map(lambda l: sentiment_scores(l)['compound'] if type(l) == str else 0)\n",
    "df['comments_sentiment']=df['commentsReview'].map(lambda l: sentiment_scores(l)['compound'] if type(l) == str else 0)"
   ]
  },
  {
   "cell_type": "code",
   "execution_count": 12,
   "metadata": {},
   "outputs": [],
   "source": [
    "df['overall_sentiment']=df[['sideeffects_sentiment','benefits_sentiment','comments_sentiment']].mean(axis = 1, skipna = True) "
   ]
  },
  {
   "cell_type": "code",
   "execution_count": 13,
   "metadata": {},
   "outputs": [],
   "source": [
    "rating_senti=df[['rating','overall_sentiment']]\n",
    "rating_senti_avg=rating_senti.groupby('rating').mean().reset_index()"
   ]
  },
  {
   "cell_type": "markdown",
   "metadata": {},
   "source": [
    "VaderSentiment extracts positive, negative, neutral and compound sentiment from the text. For exploratory analysis, we have used the Compound sentiment only. Furthermore, the sentiment of three review columns **sideEffectsReview**, **benefitsReview** and **commentsReview** are averaged out.\n",
    "\n",
    "Fig 1.2.1 represents overall sentiment vs ratings with sentiment been extracted directly using vader sentiment package  \n",
    "Fig 1.2.2 represents overall sentiment vs ratings with sentiment been extracted after removing medical terms appearing in columns **urlDrugName** and **condition**  \n",
    "\n",
    "  \n",
    "In the second case, we are removing medical conditions as they may pose a unintentional bias <br>\n",
    "*For example, Kindey Failure is a medical condition which may add to a negative sentiment*"
   ]
  },
  {
   "cell_type": "code",
   "execution_count": 14,
   "metadata": {},
   "outputs": [
    {
     "data": {
      "image/png": "[encoded data removed]",
      "text/plain": [
       "<Figure size 576x432 with 1 Axes>"
      ]
     },
     "metadata": {
      "needs_background": "light"
     },
     "output_type": "display_data"
    }
   ],
   "source": [
    "fig, ax=plt.subplots(1,1,figsize=(8,6))\n",
    "ax.set_ylabel(\"Overall Sentiment\")\n",
    "ax.set_xlabel(\"Ratings\")\n",
    "ax.scatter(rating_senti['rating'],rating_senti['overall_sentiment'],alpha=0.1, c='orange', label='Sentiment')\n",
    "ax.plot(rating_senti_avg['rating'],rating_senti_avg['overall_sentiment'],lw='2',c='purple',label='Mean of sentiment')\n",
    "ax.spines['right'].set_visible(False)\n",
    "ax.spines['top'].set_visible(False)\n",
    "leg = ax.legend()\n",
    "ax.set_title(\"Fig 1.2.1 : Overall sentiment vs ratings\")\n",
    "plt.show()"
   ]
  },
  {
   "cell_type": "markdown",
   "metadata": {},
   "source": [
    "**Observations:** Higher ratings on average have higher mean sentiment"
   ]
  },
  {
   "cell_type": "code",
   "execution_count": 15,
   "metadata": {},
   "outputs": [],
   "source": [
    "def remove_drug_condition(query,drug_name,condition):\n",
    "    stopwords=[]\n",
    "    if type(drug_name) == str:\n",
    "        stopwords = stopwords + re.sub('[^a-zA-Z ]+', '', drug_name).lower().split()\n",
    "    if type(condition) == str:\n",
    "        stopwords = stopwords + re.sub('[^a-zA-Z ]+', '', condition).lower().split()\n",
    "    result=query\n",
    "    if len(stopwords)>0:\n",
    "        querywords = query.split()\n",
    "        resultwords  = [word for word in querywords if word.lower() not in stopwords]\n",
    "        result = ' '.join(resultwords)\n",
    "    return result"
   ]
  },
  {
   "cell_type": "code",
   "execution_count": 16,
   "metadata": {},
   "outputs": [],
   "source": [
    "df2=pd.DataFrame(df)"
   ]
  },
  {
   "cell_type": "code",
   "execution_count": 17,
   "metadata": {},
   "outputs": [],
   "source": [
    "for i in df2.index:\n",
    "    if type(df2['sideEffectsReview'].at[i]) == str:\n",
    "        df2['sideEffectsReview'].at[i]=remove_drug_condition(df2['sideEffectsReview'].at[i],\n",
    "                                                             df2['urlDrugName'].at[i],\n",
    "                                                             df2['condition'].at[i])\n",
    "for i in df2.index:\n",
    "    if type(df2['benefitsReview'].at[i]) == str:\n",
    "        df2['benefitsReview'].at[i]=remove_drug_condition(df2['benefitsReview'].at[i],\n",
    "                                                             df2['urlDrugName'].at[i],\n",
    "                                                             df2['condition'].at[i])\n",
    "for i in df2.index:\n",
    "    if type(df2['commentsReview'].at[i]) == str:\n",
    "        df2['commentsReview'].at[i]=remove_drug_condition(df2['commentsReview'].at[i],\n",
    "                                                             df2['urlDrugName'].at[i],\n",
    "                                                             df2['condition'].at[i])"
   ]
  },
  {
   "cell_type": "code",
   "execution_count": 18,
   "metadata": {},
   "outputs": [],
   "source": [
    "df2['sideeffects_sentiment']=df2['sideEffectsReview'].map(lambda l: sentiment_scores(l)['compound'] if type(l) == str else 0)\n",
    "df2['benefits_sentiment']=df2['benefitsReview'].map(lambda l: sentiment_scores(l)['compound'] if type(l) == str else 0)\n",
    "df2['comments_sentiment']=df2['commentsReview'].map(lambda l: sentiment_scores(l)['compound'] if type(l) == str else 0)"
   ]
  },
  {
   "cell_type": "code",
   "execution_count": 19,
   "metadata": {},
   "outputs": [],
   "source": [
    "df2['overall_sentiment']=df2[['sideeffects_sentiment','benefits_sentiment','comments_sentiment']].mean(axis = 1, skipna = True) "
   ]
  },
  {
   "cell_type": "code",
   "execution_count": 20,
   "metadata": {},
   "outputs": [
    {
     "data": {
      "image/png": "[encoded data removed]",
      "text/plain": [
       "<Figure size 576x432 with 1 Axes>"
      ]
     },
     "metadata": {
      "needs_background": "light"
     },
     "output_type": "display_data"
    }
   ],
   "source": [
    "rating_senti=df2[['rating','overall_sentiment']]\n",
    "rating_senti_avg=rating_senti.groupby('rating').mean().reset_index()\n",
    "fig, ax=plt.subplots(1,1,figsize=(8,6))\n",
    "ax.set_ylabel(\"Overall Sentiment\")\n",
    "ax.set_xlabel(\"Ratings\")\n",
    "ax.scatter(rating_senti['rating'],rating_senti['overall_sentiment'],alpha=0.1, c='orange', label='Sentiment')\n",
    "ax.plot(rating_senti_avg['rating'],rating_senti_avg['overall_sentiment'],lw='2',c='purple',label='Mean of sentiment')\n",
    "ax.spines['right'].set_visible(False)\n",
    "ax.spines['top'].set_visible(False)\n",
    "leg = ax.legend()\n",
    "ax.set_title(\"Fig 1.2.2 : Overall sentiment vs ratings\")\n",
    "plt.show()"
   ]
  },
  {
   "cell_type": "markdown",
   "metadata": {},
   "source": [
    "**Observations:** No significant difference from Fig 1.2.1"
   ]
  },
  {
   "cell_type": "code",
   "execution_count": 21,
   "metadata": {},
   "outputs": [
    {
     "data": {
      "image/png": "[encoded data removed]",
      "text/plain": [
       "<Figure size 432x288 with 1 Axes>"
      ]
     },
     "metadata": {
      "needs_background": "light"
     },
     "output_type": "display_data"
    }
   ],
   "source": [
    "plt.hist(df2['overall_sentiment'])\n",
    "plt.xlabel('Sentiment')\n",
    "plt.ylabel('Frequency')\n",
    "plt.title('Fig 1.2.3 : Distribution of sentiment')\n",
    "plt.show()"
   ]
  },
  {
   "cell_type": "markdown",
   "metadata": {},
   "source": [
    "**Observations:** Sentiments are nomally distributed, we can generate a model to predict ratings based on sentiments using Gaussian Naive Bayes"
   ]
  },
  {
   "cell_type": "markdown",
   "metadata": {},
   "source": [
    "# 2 Machine Learning Models"
   ]
  },
  {
   "cell_type": "markdown",
   "metadata": {},
   "source": [
    "## 2.1 Gaussian Naive Bayes\n",
    "Using sentiments extracted from VaderSentiment as features\n"
   ]
  },
  {
   "cell_type": "markdown",
   "metadata": {},
   "source": [
    "### 2.1.1 Preprocessing"
   ]
  },
  {
   "cell_type": "code",
   "execution_count": 22,
   "metadata": {},
   "outputs": [],
   "source": [
    "drugs_train = pd.read_csv('drugLibTrain_raw.tsv', sep='\\t')\n",
    "drugs_test = pd.read_csv('drugLibTest_raw.tsv', sep='\\t')"
   ]
  },
  {
   "cell_type": "code",
   "execution_count": 23,
   "metadata": {},
   "outputs": [],
   "source": [
    "'''\n",
    "Remove drug names and word in medical condition as it may pose a unintentional bias <br>\n",
    "For example, Kindey Failure is a medical condition which may add to a negative sentiment\n",
    "'''\n",
    "def remove_drug_condition(query,drug_name,condition):\n",
    "    stopwords=[]\n",
    "    if type(drug_name) == str:\n",
    "        stopwords = stopwords + re.sub('[^a-zA-Z ]+', '', drug_name).lower().split()\n",
    "    if type(condition) == str:\n",
    "        stopwords = stopwords + re.sub('[^a-zA-Z ]+', '', condition).lower().split()\n",
    "    result=query\n",
    "    if len(stopwords)>0:\n",
    "        querywords = query.split()\n",
    "        resultwords  = [word for word in querywords if word.lower() not in stopwords]\n",
    "        result = ' '.join(resultwords)\n",
    "    return result\n",
    "def clean_drug_review(df,review_field):\n",
    "    for i in df.index:\n",
    "        if type(df[review_field].at[i]) == str:\n",
    "            df[review_field].at[i]=remove_drug_condition(df[review_field].at[i],\n",
    "                                                             df['urlDrugName'].at[i],\n",
    "                                                             df['condition'].at[i])"
   ]
  },
  {
   "cell_type": "code",
   "execution_count": 24,
   "metadata": {},
   "outputs": [],
   "source": [
    "clean_drug_review(drugs_train,'sideEffectsReview')\n",
    "clean_drug_review(drugs_train,'benefitsReview')\n",
    "clean_drug_review(drugs_train,'commentsReview')\n",
    "clean_drug_review(drugs_test,'sideEffectsReview')\n",
    "clean_drug_review(drugs_test,'benefitsReview')\n",
    "clean_drug_review(drugs_test,'commentsReview')"
   ]
  },
  {
   "cell_type": "markdown",
   "metadata": {},
   "source": [
    "### 2.1.2 Set up Vader Sentiment"
   ]
  },
  {
   "cell_type": "code",
   "execution_count": 25,
   "metadata": {},
   "outputs": [],
   "source": [
    "analyser = SentimentIntensityAnalyzer()\n",
    "def sentiment_scores(sentence):\n",
    "    score = analyser.polarity_scores(sentence)\n",
    "    return score"
   ]
  },
  {
   "cell_type": "markdown",
   "metadata": {},
   "source": [
    "### 2.1.3 Extract sentiments from reviews using VaderSentiment\n",
    "Feature Extraction"
   ]
  },
  {
   "cell_type": "code",
   "execution_count": 26,
   "metadata": {},
   "outputs": [],
   "source": [
    "def extract_sentiment(df,review_field):\n",
    "    df[review_field+\"_pos\"]=df[review_field].map(lambda l: sentiment_scores(l)['pos'] if type(l) == str else 0)\n",
    "    df[review_field+\"_neg\"]=df[review_field].map(lambda l: sentiment_scores(l)['neg'] if type(l) == str else 0)\n",
    "    df[review_field+\"_neu\"]=df[review_field].map(lambda l: sentiment_scores(l)['neu'] if type(l) == str else 0)\n",
    "    df[review_field+\"_compound\"]=df[review_field].map(lambda l: sentiment_scores(l)['compound'] if type(l) == str else 0)"
   ]
  },
  {
   "cell_type": "code",
   "execution_count": 27,
   "metadata": {},
   "outputs": [],
   "source": [
    "extract_sentiment(drugs_train,'sideEffectsReview')\n",
    "extract_sentiment(drugs_train,'benefitsReview')\n",
    "extract_sentiment(drugs_train,'commentsReview')\n",
    "extract_sentiment(drugs_test,'sideEffectsReview')\n",
    "extract_sentiment(drugs_test,'benefitsReview')\n",
    "extract_sentiment(drugs_test,'commentsReview')"
   ]
  },
  {
   "cell_type": "code",
   "execution_count": null,
   "metadata": {},
   "outputs": [],
   "source": []
  },
  {
   "cell_type": "code",
   "execution_count": 28,
   "metadata": {},
   "outputs": [],
   "source": [
    "columns_drop=['Unnamed: 0','urlDrugName','effectiveness','sideEffects','condition','benefitsReview','sideEffectsReview','commentsReview']\n",
    "drugs_train_clean=drugs_train.drop(columns_drop,axis=1)\n",
    "drugs_test_clean=drugs_test.drop(columns_drop,axis=1)"
   ]
  },
  {
   "cell_type": "markdown",
   "metadata": {},
   "source": [
    "### 2.1.4  Model to predict ratings 1 to 10"
   ]
  },
  {
   "cell_type": "code",
   "execution_count": 29,
   "metadata": {},
   "outputs": [],
   "source": [
    "from sklearn.naive_bayes import GaussianNB,MultinomialNB, ComplementNB\n",
    "from sklearn.metrics import roc_curve, auc, confusion_matrix\n",
    "from sklearn import svm\n",
    "from sklearn.metrics import accuracy_score"
   ]
  },
  {
   "cell_type": "code",
   "execution_count": 30,
   "metadata": {},
   "outputs": [],
   "source": [
    "model = GaussianNB()\n",
    "X_train=drugs_train_clean[drugs_train_clean.columns.difference(['rating'])]\n",
    "y_train=drugs_train_clean['rating']\n",
    "\n",
    "X_test=drugs_test_clean[drugs_train_clean.columns.difference(['rating'])]\n",
    "y_test=drugs_test_clean['rating']"
   ]
  },
  {
   "cell_type": "code",
   "execution_count": 31,
   "metadata": {},
   "outputs": [],
   "source": [
    "model.fit(X_train,y_train)\n",
    "y_pred_nb = model.predict(X_test)"
   ]
  },
  {
   "cell_type": "code",
   "execution_count": 32,
   "metadata": {},
   "outputs": [
    {
     "name": "stdout",
     "output_type": "stream",
     "text": [
      "0.25386100386100385\n"
     ]
    }
   ],
   "source": [
    "print(accuracy_score(y_test, y_pred_nb))"
   ]
  },
  {
   "cell_type": "markdown",
   "metadata": {},
   "source": [
    "**Observations**: With 10 labels accuracy we are getting is 0.25 which is way less than desired. As expected predicting 10 labels is too much of a task for this model. However, we can categorize the performance of drugs in less labels."
   ]
  },
  {
   "cell_type": "markdown",
   "metadata": {},
   "source": [
    "In the next part, we reduce the number of labels to 3 with -1 indicating poorly rated drugs, 1 indicating highly rated drugs and 0 being avarage rating."
   ]
  },
  {
   "cell_type": "code",
   "execution_count": 33,
   "metadata": {},
   "outputs": [],
   "source": [
    "def reduce_label(rating):\n",
    "    \"\"\" maps 0-10 rating to Positive (1), Neutral (0), or Negative (-1)\"\"\"\n",
    "    if rating > 6:\n",
    "        return 1\n",
    "    elif rating > 4:\n",
    "        return 0\n",
    "    else:\n",
    "        return -1"
   ]
  },
  {
   "cell_type": "markdown",
   "metadata": {},
   "source": [
    "### 2.1.5  Model to predict if drugs is a poor, average or a high performer"
   ]
  },
  {
   "cell_type": "code",
   "execution_count": 34,
   "metadata": {},
   "outputs": [],
   "source": [
    "X_train=drugs_train_clean[drugs_train_clean.columns.difference(['rating'])]\n",
    "y_train=drugs_train_clean['rating'].map(lambda l:reduce_label(l))\n",
    "\n",
    "X_test=drugs_test_clean[drugs_train_clean.columns.difference(['rating'])]\n",
    "y_test=drugs_test_clean['rating'].map(lambda l:reduce_label(l))"
   ]
  },
  {
   "cell_type": "code",
   "execution_count": 35,
   "metadata": {},
   "outputs": [],
   "source": [
    "model = GaussianNB()\n",
    "model.fit(X_train,y_train)\n",
    "y_pred_nb = model.predict(X_test)\n",
    "y_pred_tr_nb = model.predict(X_train)"
   ]
  },
  {
   "cell_type": "code",
   "execution_count": 36,
   "metadata": {},
   "outputs": [
    {
     "name": "stdout",
     "output_type": "stream",
     "text": [
      "Testing Accuracy: 0.6476833976833977\n",
      "Training Accuracy: 0.6717090440939814\n"
     ]
    }
   ],
   "source": [
    "print('Testing Accuracy: '+str(accuracy_score(y_test, y_pred_nb)))\n",
    "print('Training Accuracy: '+str(accuracy_score(y_train, y_pred_tr_nb)))"
   ]
  },
  {
   "cell_type": "markdown",
   "metadata": {},
   "source": [
    "**Observations:** Accuracy is much better."
   ]
  },
  {
   "cell_type": "markdown",
   "metadata": {},
   "source": [
    "## 2.2 Predicting drug rating without extracting sentiment \n",
    "Here we attempt to predict drug rating using the words from three review sets directly"
   ]
  },
  {
   "cell_type": "code",
   "execution_count": 37,
   "metadata": {},
   "outputs": [],
   "source": [
    "from nltk.corpus import stopwords\n",
    "from sklearn.feature_extraction.text import CountVectorizer\n",
    "import itertools"
   ]
  },
  {
   "cell_type": "code",
   "execution_count": 38,
   "metadata": {},
   "outputs": [],
   "source": [
    "stopwords_set=set(stopwords.words('english'))"
   ]
  },
  {
   "cell_type": "code",
   "execution_count": 39,
   "metadata": {},
   "outputs": [
    {
     "data": {
      "text/html": [
       "<div>\n",
       "<style scoped>\n",
       "    .dataframe tbody tr th:only-of-type {\n",
       "        vertical-align: middle;\n",
       "    }\n",
       "\n",
       "    .dataframe tbody tr th {\n",
       "        vertical-align: top;\n",
       "    }\n",
       "\n",
       "    .dataframe thead th {\n",
       "        text-align: right;\n",
       "    }\n",
       "</style>\n",
       "<table border=\"1\" class=\"dataframe\">\n",
       "  <thead>\n",
       "    <tr style=\"text-align: right;\">\n",
       "      <th></th>\n",
       "      <th>rating</th>\n",
       "      <th>benefitsReview</th>\n",
       "      <th>sideEffectsReview</th>\n",
       "      <th>commentsReview</th>\n",
       "    </tr>\n",
       "  </thead>\n",
       "  <tbody>\n",
       "    <tr>\n",
       "      <th>0</th>\n",
       "      <td>4</td>\n",
       "      <td>slowed the progression left ventricular dysfun...</td>\n",
       "      <td>cough, hypotension , proteinuria, impotence , ...</td>\n",
       "      <td>monitor blood pressure , weight and asses for ...</td>\n",
       "    </tr>\n",
       "    <tr>\n",
       "      <th>1</th>\n",
       "      <td>1</td>\n",
       "      <td>Although this type of control has more cons th...</td>\n",
       "      <td>Heavy Cycle, Cramps, Hot Flashes, Fatigue, Lon...</td>\n",
       "      <td>I Hate This Control, I Would Not Suggest This ...</td>\n",
       "    </tr>\n",
       "    <tr>\n",
       "      <th>2</th>\n",
       "      <td>10</td>\n",
       "      <td>I was used to having so badly that they would ...</td>\n",
       "      <td>Heavier bleeding and clotting than normal.</td>\n",
       "      <td>I took 2 pills at the onset of my and then eve...</td>\n",
       "    </tr>\n",
       "    <tr>\n",
       "      <th>3</th>\n",
       "      <td>3</td>\n",
       "      <td>The went away for a few months after just a fe...</td>\n",
       "      <td>Constipation, dry mouth and some mild dizzines...</td>\n",
       "      <td>I was given prescription at a dose of 45mg per...</td>\n",
       "    </tr>\n",
       "    <tr>\n",
       "      <th>4</th>\n",
       "      <td>2</td>\n",
       "      <td>I think that the was starting to help with the...</td>\n",
       "      <td>I felt extremely drugged and dopey. Could not ...</td>\n",
       "      <td>See above</td>\n",
       "    </tr>\n",
       "  </tbody>\n",
       "</table>\n",
       "</div>"
      ],
      "text/plain": [
       "   rating                                     benefitsReview  \\\n",
       "0       4  slowed the progression left ventricular dysfun...   \n",
       "1       1  Although this type of control has more cons th...   \n",
       "2      10  I was used to having so badly that they would ...   \n",
       "3       3  The went away for a few months after just a fe...   \n",
       "4       2  I think that the was starting to help with the...   \n",
       "\n",
       "                                   sideEffectsReview  \\\n",
       "0  cough, hypotension , proteinuria, impotence , ...   \n",
       "1  Heavy Cycle, Cramps, Hot Flashes, Fatigue, Lon...   \n",
       "2         Heavier bleeding and clotting than normal.   \n",
       "3  Constipation, dry mouth and some mild dizzines...   \n",
       "4  I felt extremely drugged and dopey. Could not ...   \n",
       "\n",
       "                                      commentsReview  \n",
       "0  monitor blood pressure , weight and asses for ...  \n",
       "1  I Hate This Control, I Would Not Suggest This ...  \n",
       "2  I took 2 pills at the onset of my and then eve...  \n",
       "3  I was given prescription at a dose of 45mg per...  \n",
       "4                                          See above  "
      ]
     },
     "execution_count": 39,
     "metadata": {},
     "output_type": "execute_result"
    }
   ],
   "source": [
    "drugs_train[['rating','benefitsReview','sideEffectsReview','commentsReview']].head()"
   ]
  },
  {
   "cell_type": "markdown",
   "metadata": {},
   "source": [
    "### 2.2.1 Combine three sets of reviews into one for both training and testing data set"
   ]
  },
  {
   "cell_type": "code",
   "execution_count": 40,
   "metadata": {},
   "outputs": [],
   "source": [
    "drug_reviews_train=pd.concat(\n",
    "    [drugs_train['rating'],\n",
    "     drugs_train['commentsReview'].replace(np.nan,\"\") \\\n",
    "     .str.cat(drugs_train['sideEffectsReview'].replace(np.nan,\"\"),sep=\" \") \\\n",
    "     .str.cat(drugs_train['benefitsReview'].replace(np.nan,\"\"),sep=\" \")],\n",
    "    axis=1)\n"
   ]
  },
  {
   "cell_type": "code",
   "execution_count": 41,
   "metadata": {},
   "outputs": [],
   "source": [
    "drug_reviews_test=pd.concat(\n",
    "    [drugs_test['rating'],\n",
    "     drugs_test['commentsReview'].replace(np.nan,\"\") \\\n",
    "     .str.cat(drugs_test['sideEffectsReview'].replace(np.nan,\"\"),sep=\" \") \\\n",
    "     .str.cat(drugs_test['benefitsReview'].replace(np.nan,\"\"),sep=\" \")],\n",
    "    axis=1)"
   ]
  },
  {
   "cell_type": "code",
   "execution_count": 42,
   "metadata": {},
   "outputs": [],
   "source": [
    "def make_xy(reviews, vectorizer=None):\n",
    "    verdict=reviews[['rating','commentsReview']]\n",
    "    if vectorizer == None:\n",
    "        vectorizer=CountVectorizer(min_df=0,stop_words=stopwords_set)\n",
    "        vectorizer.fit(np.array(verdict['commentsReview']))\n",
    "    X = vectorizer.transform(np.array(verdict['commentsReview']))\n",
    "    rating = np.array(verdict['rating'])\n",
    "    Y=[1 if i>6 else 0 if i>4 else -1 for i in rating]\n",
    "    return X, Y\n"
   ]
  },
  {
   "cell_type": "markdown",
   "metadata": {},
   "source": [
    "### 2.2.2 Extract tf-idf features and generate train and test data"
   ]
  },
  {
   "cell_type": "code",
   "execution_count": 43,
   "metadata": {},
   "outputs": [],
   "source": [
    "vectorizer=CountVectorizer(min_df=0,stop_words=stopwords_set)\n",
    "vectorizer.fit(np.array(drug_reviews_train['commentsReview']))\n",
    "X_train, y_train = make_xy(drug_reviews_train, vectorizer)\n",
    "X_test, y_test = make_xy(drug_reviews_test, vectorizer)"
   ]
  },
  {
   "cell_type": "code",
   "execution_count": 44,
   "metadata": {},
   "outputs": [],
   "source": [
    "X_train=X_train.toarray()\n",
    "X_test=X_test.toarray()"
   ]
  },
  {
   "cell_type": "markdown",
   "metadata": {},
   "source": [
    "### 2.2.3 Set up model and compare performance"
   ]
  },
  {
   "cell_type": "code",
   "execution_count": 45,
   "metadata": {},
   "outputs": [],
   "source": [
    "model = GaussianNB()\n",
    "model.fit(X_train,y_train)\n",
    "y_pred_nb = model.predict(X_test)\n",
    "y_pred_tr_nb = model.predict(X_train)"
   ]
  },
  {
   "cell_type": "code",
   "execution_count": 46,
   "metadata": {},
   "outputs": [
    {
     "name": "stdout",
     "output_type": "stream",
     "text": [
      "Testing Accuracy: 0.5694980694980695\n",
      "Training Accuracy: 0.939491470872224\n"
     ]
    }
   ],
   "source": [
    "print('Testing Accuracy: '+str(accuracy_score(y_test, y_pred_nb)))\n",
    "print('Training Accuracy: '+str(accuracy_score(y_train, y_pred_tr_nb)))"
   ]
  },
  {
   "cell_type": "markdown",
   "metadata": {},
   "source": [
    "**Observations:**<br>\n",
    "Since testing accuracy is much lesser than the training accuracy, this is a case of over fitting. Overfitting may happen for various reasons. In the further sections, we not only try to deal with overfitting using common techniques but also try a different approach as it is possible the model used currently is not suited for this kind of problem."
   ]
  },
  {
   "cell_type": "markdown",
   "metadata": {},
   "source": [
    "### 2.3 Deal with overfitting"
   ]
  },
  {
   "cell_type": "markdown",
   "metadata": {},
   "source": [
    "**2.3.1 Add drugnames and conditions to stopwords set**"
   ]
  },
  {
   "cell_type": "code",
   "execution_count": 47,
   "metadata": {},
   "outputs": [],
   "source": [
    "condition_words=list(drugs_train['condition'].map(lambda l: re.sub('[^a-zA-Z ]+', ' ', l) if type(l)==str else \"\").map(lambda l:l.split(\" \")))\n",
    "condition_words=list(set(itertools.chain.from_iterable(condition_words)))\n",
    "condition_words=[w if len(w)>=2 else '#None#' for w in condition_words]\n",
    "condition_words.remove('#None#')"
   ]
  },
  {
   "cell_type": "code",
   "execution_count": 48,
   "metadata": {},
   "outputs": [],
   "source": [
    "drugnames_words=list(drugs_train['urlDrugName'].map(lambda l: re.sub('[^a-zA-Z ]+', ' ', l) if type(l)==str else \"\").map(lambda l:l.split(\" \")))\n",
    "drugnames_words=list(set(itertools.chain.from_iterable(drugnames_words)))\n",
    "drugnames_words=[w if len(w)>=2 else '#None#' for w in drugnames_words]\n",
    "drugnames_words.remove('#None#')"
   ]
  },
  {
   "cell_type": "code",
   "execution_count": 49,
   "metadata": {},
   "outputs": [],
   "source": [
    "stopwords_set_custom=stopwords_set.union(set(condition_words)).union(set(drugnames_words))"
   ]
  },
  {
   "cell_type": "markdown",
   "metadata": {},
   "source": [
    "**2.3.2 Remove execessively large reviews**"
   ]
  },
  {
   "cell_type": "code",
   "execution_count": 50,
   "metadata": {},
   "outputs": [],
   "source": [
    "reviews_by_length=np.array(drug_reviews_train['commentsReview'].map(lambda l:len(l)))"
   ]
  },
  {
   "cell_type": "code",
   "execution_count": 51,
   "metadata": {},
   "outputs": [
    {
     "data": {
      "image/png": "[encoded data removed]",
      "text/plain": [
       "<Figure size 432x288 with 1 Axes>"
      ]
     },
     "metadata": {
      "needs_background": "light"
     },
     "output_type": "display_data"
    }
   ],
   "source": [
    "plt.hist(reviews_by_length)\n",
    "plt.show()"
   ]
  },
  {
   "cell_type": "code",
   "execution_count": 52,
   "metadata": {},
   "outputs": [],
   "source": [
    "drug_reviews_train2=pd.DataFrame(drug_reviews_train)\n",
    "drug_reviews_train2['review_length']=drug_reviews_train2['commentsReview'].map(lambda l:len(l))\n",
    "drug_reviews_train2=drug_reviews_train2[drug_reviews_train2['review_length']<=2000]"
   ]
  },
  {
   "cell_type": "code",
   "execution_count": 53,
   "metadata": {},
   "outputs": [],
   "source": [
    "vectorizer=CountVectorizer(min_df=0,stop_words=stopwords_set_custom)\n",
    "vectorizer.fit(np.array(drug_reviews_train['commentsReview']))\n",
    "X_train, y_train = make_xy(drug_reviews_train, vectorizer)\n",
    "X_test, y_test = make_xy(drug_reviews_test, vectorizer)"
   ]
  },
  {
   "cell_type": "code",
   "execution_count": 54,
   "metadata": {},
   "outputs": [],
   "source": [
    "X_train=X_train.toarray()\n",
    "X_test=X_test.toarray()"
   ]
  },
  {
   "cell_type": "code",
   "execution_count": 55,
   "metadata": {},
   "outputs": [],
   "source": [
    "model = GaussianNB()\n",
    "model.fit(X_train,y_train)\n",
    "y_pred_nb = model.predict(X_test)\n",
    "y_pred_tr_nb = model.predict(X_train)"
   ]
  },
  {
   "cell_type": "code",
   "execution_count": 56,
   "metadata": {},
   "outputs": [
    {
     "name": "stdout",
     "output_type": "stream",
     "text": [
      "Testing Accuracy: 0.5472972972972973\n",
      "Training Accuracy: 0.9279047312520116\n"
     ]
    }
   ],
   "source": [
    "print('Testing Accuracy: '+str(accuracy_score(y_test, y_pred_nb)))\n",
    "print('Training Accuracy: '+str(accuracy_score(y_train, y_pred_tr_nb)))"
   ]
  },
  {
   "cell_type": "markdown",
   "metadata": {},
   "source": [
    "**Observations:**<br>\n",
    "Even after trying varous approaches to deal with over fitting, there is not significant difference in the accuracy. In the next section, we use Multinomoal Naive Bayes."
   ]
  },
  {
   "cell_type": "markdown",
   "metadata": {},
   "source": [
    "### 2.4 Multinomial Naive Bayes\n"
   ]
  },
  {
   "cell_type": "markdown",
   "metadata": {},
   "source": [
    "#### 2.4.1 Model Fitting and Accuracy Evaluation"
   ]
  },
  {
   "cell_type": "code",
   "execution_count": 57,
   "metadata": {},
   "outputs": [],
   "source": [
    "model = MultinomialNB()\n",
    "model.fit(X_train,y_train)\n",
    "y_pred_nb = model.predict(X_test)\n",
    "y_pred_tr_nb = model.predict(X_train)"
   ]
  },
  {
   "cell_type": "code",
   "execution_count": 58,
   "metadata": {},
   "outputs": [
    {
     "name": "stdout",
     "output_type": "stream",
     "text": [
      "Testing Accuracy: 0.6978764478764479\n",
      "Training Accuracy: 0.8751206952043772\n"
     ]
    }
   ],
   "source": [
    "print('Testing Accuracy: '+str(accuracy_score(y_test, y_pred_nb)))\n",
    "print('Training Accuracy: '+str(accuracy_score(y_train, y_pred_tr_nb)))"
   ]
  },
  {
   "cell_type": "markdown",
   "metadata": {},
   "source": [
    "The testing accuracy we achieve is about 70%, however, we can improve this accuracy by using regularization"
   ]
  },
  {
   "cell_type": "markdown",
   "metadata": {},
   "source": [
    "#### 2.4.2 Estimating alpha"
   ]
  },
  {
   "cell_type": "code",
   "execution_count": 59,
   "metadata": {},
   "outputs": [],
   "source": [
    "alphas=np.arange(1,20)*0.1\n",
    "accuracy_train=[]\n",
    "accuracy_test=[]\n",
    "for alpha in alphas:\n",
    "    model = ComplementNB(alpha=alpha)\n",
    "    model.fit(X_train,y_train)\n",
    "    y_pred_nb = model.predict(X_test)\n",
    "    y_pred_tr_nb = model.predict(X_train)\n",
    "    accuracy_test.append(accuracy_score(y_test, y_pred_nb))\n",
    "    accuracy_train.append(accuracy_score(y_train, y_pred_tr_nb))"
   ]
  },
  {
   "cell_type": "code",
   "execution_count": 60,
   "metadata": {},
   "outputs": [
    {
     "data": {
      "image/png": "[encoded data removed]",
      "text/plain": [
       "<Figure size 432x288 with 1 Axes>"
      ]
     },
     "metadata": {
      "needs_background": "light"
     },
     "output_type": "display_data"
    }
   ],
   "source": [
    "plt.plot(alphas,accuracy_train,label='Train Accuracy')\n",
    "plt.plot(alphas,accuracy_test,label='Test Accuracy')\n",
    "plt.xlabel('alpha')\n",
    "plt.ylabel('accuracy')\n",
    "plt.legend()\n",
    "plt.title('Alpha vs Accuracy')\n",
    "plt.show()"
   ]
  },
  {
   "cell_type": "markdown",
   "metadata": {},
   "source": [
    "### 2.5 Final Model\n",
    "Multinomoal Naive Bayes with alpha=0.75 gives the best testing accuracy\n"
   ]
  },
  {
   "cell_type": "code",
   "execution_count": 61,
   "metadata": {},
   "outputs": [],
   "source": [
    "model = MultinomialNB(alpha=0.75)\n",
    "model.fit(X_train,y_train)\n",
    "y_pred_nb = model.predict(X_test)\n",
    "y_pred_tr_nb = model.predict(X_train)"
   ]
  },
  {
   "cell_type": "code",
   "execution_count": 62,
   "metadata": {},
   "outputs": [
    {
     "name": "stdout",
     "output_type": "stream",
     "text": [
      "Testing Accuracy: 0.7123552123552124\n",
      "Training Accuracy: 0.9008690054715159\n"
     ]
    }
   ],
   "source": [
    "print('Testing Accuracy: '+str(accuracy_score(y_test, y_pred_nb)))\n",
    "print('Training Accuracy: '+str(accuracy_score(y_train, y_pred_tr_nb)))"
   ]
  },
  {
   "cell_type": "markdown",
   "metadata": {},
   "source": [
    "**Observations**: <br>\n",
    "So far we are able to achieve an accuracy of 0.71 which is decent however much lesser than the training accuracy. This could be a potential case of overfitting. Analyzing it further as to which words could be better predictors of classes can perhaps give us more insights."
   ]
  },
  {
   "cell_type": "markdown",
   "metadata": {},
   "source": [
    "## 3 Result Explorations\n",
    "List of words along with their corresponding probabilities which best predict three classes"
   ]
  },
  {
   "cell_type": "code",
   "execution_count": 63,
   "metadata": {},
   "outputs": [],
   "source": [
    "import scipy.sparse as sp"
   ]
  },
  {
   "cell_type": "code",
   "execution_count": 64,
   "metadata": {},
   "outputs": [],
   "source": [
    "identity=sp.identity(X_train.shape[1])\n",
    "probs=model.predict_proba(identity)\n",
    "vec=pd.DataFrame(vectorizer.get_feature_names(), columns=['Features'])"
   ]
  },
  {
   "cell_type": "code",
   "execution_count": 65,
   "metadata": {},
   "outputs": [
    {
     "name": "stdout",
     "output_type": "stream",
     "text": [
      "10 words that best predicts bad drug rating\n"
     ]
    },
    {
     "data": {
      "text/html": [
       "<div>\n",
       "<style scoped>\n",
       "    .dataframe tbody tr th:only-of-type {\n",
       "        vertical-align: middle;\n",
       "    }\n",
       "\n",
       "    .dataframe tbody tr th {\n",
       "        vertical-align: top;\n",
       "    }\n",
       "\n",
       "    .dataframe thead th {\n",
       "        text-align: right;\n",
       "    }\n",
       "</style>\n",
       "<table border=\"1\" class=\"dataframe\">\n",
       "  <thead>\n",
       "    <tr style=\"text-align: right;\">\n",
       "      <th></th>\n",
       "      <th>Features</th>\n",
       "      <th>probs</th>\n",
       "    </tr>\n",
       "  </thead>\n",
       "  <tbody>\n",
       "    <tr>\n",
       "      <th>7893</th>\n",
       "      <td>percocette</td>\n",
       "      <td>0.814170</td>\n",
       "    </tr>\n",
       "    <tr>\n",
       "      <th>9675</th>\n",
       "      <td>shrinkage</td>\n",
       "      <td>0.788681</td>\n",
       "    </tr>\n",
       "    <tr>\n",
       "      <th>4812</th>\n",
       "      <td>gait</td>\n",
       "      <td>0.788681</td>\n",
       "    </tr>\n",
       "    <tr>\n",
       "      <th>7875</th>\n",
       "      <td>penile</td>\n",
       "      <td>0.788681</td>\n",
       "    </tr>\n",
       "    <tr>\n",
       "      <th>10762</th>\n",
       "      <td>tendon</td>\n",
       "      <td>0.788681</td>\n",
       "    </tr>\n",
       "    <tr>\n",
       "      <th>559</th>\n",
       "      <td>ached</td>\n",
       "      <td>0.788681</td>\n",
       "    </tr>\n",
       "    <tr>\n",
       "      <th>6470</th>\n",
       "      <td>lovastatin</td>\n",
       "      <td>0.788681</td>\n",
       "    </tr>\n",
       "    <tr>\n",
       "      <th>2973</th>\n",
       "      <td>darvacet</td>\n",
       "      <td>0.788681</td>\n",
       "    </tr>\n",
       "    <tr>\n",
       "      <th>8544</th>\n",
       "      <td>puppy</td>\n",
       "      <td>0.788681</td>\n",
       "    </tr>\n",
       "    <tr>\n",
       "      <th>1999</th>\n",
       "      <td>cart</td>\n",
       "      <td>0.788681</td>\n",
       "    </tr>\n",
       "  </tbody>\n",
       "</table>\n",
       "</div>"
      ],
      "text/plain": [
       "         Features     probs\n",
       "7893   percocette  0.814170\n",
       "9675    shrinkage  0.788681\n",
       "4812         gait  0.788681\n",
       "7875       penile  0.788681\n",
       "10762      tendon  0.788681\n",
       "559         ached  0.788681\n",
       "6470   lovastatin  0.788681\n",
       "2973     darvacet  0.788681\n",
       "8544        puppy  0.788681\n",
       "1999         cart  0.788681"
      ]
     },
     "execution_count": 65,
     "metadata": {},
     "output_type": "execute_result"
    }
   ],
   "source": [
    "print('10 words that best predicts bad drug rating')\n",
    "vec['probs']=probs[:,0]\n",
    "vec.sort_values(by=['probs'],ascending=False).head(10)"
   ]
  },
  {
   "cell_type": "code",
   "execution_count": 66,
   "metadata": {},
   "outputs": [
    {
     "name": "stdout",
     "output_type": "stream",
     "text": [
      "10 words that best predicts neutral drug rating\n"
     ]
    },
    {
     "data": {
      "text/html": [
       "<div>\n",
       "<style scoped>\n",
       "    .dataframe tbody tr th:only-of-type {\n",
       "        vertical-align: middle;\n",
       "    }\n",
       "\n",
       "    .dataframe tbody tr th {\n",
       "        vertical-align: top;\n",
       "    }\n",
       "\n",
       "    .dataframe thead th {\n",
       "        text-align: right;\n",
       "    }\n",
       "</style>\n",
       "<table border=\"1\" class=\"dataframe\">\n",
       "  <thead>\n",
       "    <tr style=\"text-align: right;\">\n",
       "      <th></th>\n",
       "      <th>Features</th>\n",
       "      <th>probs</th>\n",
       "    </tr>\n",
       "  </thead>\n",
       "  <tbody>\n",
       "    <tr>\n",
       "      <th>9223</th>\n",
       "      <td>rivotril</td>\n",
       "      <td>0.729412</td>\n",
       "    </tr>\n",
       "    <tr>\n",
       "      <th>7065</th>\n",
       "      <td>murad</td>\n",
       "      <td>0.729412</td>\n",
       "    </tr>\n",
       "    <tr>\n",
       "      <th>5970</th>\n",
       "      <td>irritant</td>\n",
       "      <td>0.690100</td>\n",
       "    </tr>\n",
       "    <tr>\n",
       "      <th>6502</th>\n",
       "      <td>luvox</td>\n",
       "      <td>0.644790</td>\n",
       "    </tr>\n",
       "    <tr>\n",
       "      <th>6702</th>\n",
       "      <td>medicament</td>\n",
       "      <td>0.637423</td>\n",
       "    </tr>\n",
       "    <tr>\n",
       "      <th>11439</th>\n",
       "      <td>unsurprisingly</td>\n",
       "      <td>0.637423</td>\n",
       "    </tr>\n",
       "    <tr>\n",
       "      <th>6519</th>\n",
       "      <td>macrodantin</td>\n",
       "      <td>0.637423</td>\n",
       "    </tr>\n",
       "    <tr>\n",
       "      <th>6137</th>\n",
       "      <td>l5</td>\n",
       "      <td>0.637423</td>\n",
       "    </tr>\n",
       "    <tr>\n",
       "      <th>10213</th>\n",
       "      <td>stitches</td>\n",
       "      <td>0.637423</td>\n",
       "    </tr>\n",
       "    <tr>\n",
       "      <th>8336</th>\n",
       "      <td>proactiv</td>\n",
       "      <td>0.637423</td>\n",
       "    </tr>\n",
       "  </tbody>\n",
       "</table>\n",
       "</div>"
      ],
      "text/plain": [
       "             Features     probs\n",
       "9223         rivotril  0.729412\n",
       "7065            murad  0.729412\n",
       "5970         irritant  0.690100\n",
       "6502            luvox  0.644790\n",
       "6702       medicament  0.637423\n",
       "11439  unsurprisingly  0.637423\n",
       "6519      macrodantin  0.637423\n",
       "6137               l5  0.637423\n",
       "10213        stitches  0.637423\n",
       "8336         proactiv  0.637423"
      ]
     },
     "execution_count": 66,
     "metadata": {},
     "output_type": "execute_result"
    }
   ],
   "source": [
    "print('10 words that best predicts neutral drug rating')\n",
    "vec['probs']=probs[:,1]\n",
    "vec.sort_values(by=['probs'],ascending=False).head(10)"
   ]
  },
  {
   "cell_type": "code",
   "execution_count": 67,
   "metadata": {},
   "outputs": [
    {
     "name": "stdout",
     "output_type": "stream",
     "text": [
      "10 words that best predicts good drug rating\n"
     ]
    },
    {
     "data": {
      "text/html": [
       "<div>\n",
       "<style scoped>\n",
       "    .dataframe tbody tr th:only-of-type {\n",
       "        vertical-align: middle;\n",
       "    }\n",
       "\n",
       "    .dataframe tbody tr th {\n",
       "        vertical-align: top;\n",
       "    }\n",
       "\n",
       "    .dataframe thead th {\n",
       "        text-align: right;\n",
       "    }\n",
       "</style>\n",
       "<table border=\"1\" class=\"dataframe\">\n",
       "  <thead>\n",
       "    <tr style=\"text-align: right;\">\n",
       "      <th></th>\n",
       "      <th>Features</th>\n",
       "      <th>probs</th>\n",
       "    </tr>\n",
       "  </thead>\n",
       "  <tbody>\n",
       "    <tr>\n",
       "      <th>2584</th>\n",
       "      <td>consistently</td>\n",
       "      <td>0.956950</td>\n",
       "    </tr>\n",
       "    <tr>\n",
       "      <th>1960</th>\n",
       "      <td>capsule</td>\n",
       "      <td>0.950487</td>\n",
       "    </tr>\n",
       "    <tr>\n",
       "      <th>4148</th>\n",
       "      <td>excellent</td>\n",
       "      <td>0.948678</td>\n",
       "    </tr>\n",
       "    <tr>\n",
       "      <th>6545</th>\n",
       "      <td>maintenance</td>\n",
       "      <td>0.943224</td>\n",
       "    </tr>\n",
       "    <tr>\n",
       "      <th>6541</th>\n",
       "      <td>maintained</td>\n",
       "      <td>0.936472</td>\n",
       "    </tr>\n",
       "    <tr>\n",
       "      <th>2459</th>\n",
       "      <td>complexion</td>\n",
       "      <td>0.932456</td>\n",
       "    </tr>\n",
       "    <tr>\n",
       "      <th>9016</th>\n",
       "      <td>repeat</td>\n",
       "      <td>0.932456</td>\n",
       "    </tr>\n",
       "    <tr>\n",
       "      <th>6323</th>\n",
       "      <td>lifted</td>\n",
       "      <td>0.930502</td>\n",
       "    </tr>\n",
       "    <tr>\n",
       "      <th>2626</th>\n",
       "      <td>content</td>\n",
       "      <td>0.927898</td>\n",
       "    </tr>\n",
       "    <tr>\n",
       "      <th>1804</th>\n",
       "      <td>bring</td>\n",
       "      <td>0.927898</td>\n",
       "    </tr>\n",
       "  </tbody>\n",
       "</table>\n",
       "</div>"
      ],
      "text/plain": [
       "          Features     probs\n",
       "2584  consistently  0.956950\n",
       "1960       capsule  0.950487\n",
       "4148     excellent  0.948678\n",
       "6545   maintenance  0.943224\n",
       "6541    maintained  0.936472\n",
       "2459    complexion  0.932456\n",
       "9016        repeat  0.932456\n",
       "6323        lifted  0.930502\n",
       "2626       content  0.927898\n",
       "1804         bring  0.927898"
      ]
     },
     "execution_count": 67,
     "metadata": {},
     "output_type": "execute_result"
    }
   ],
   "source": [
    "print('10 words that best predicts good drug rating')\n",
    "vec['probs']=probs[:,2]\n",
    "vec.sort_values(by=['probs'],ascending=False).head(10)"
   ]
  },
  {
   "cell_type": "markdown",
   "metadata": {},
   "source": [
    "**Observations**: <br>\n",
    "We do see words like *excellent*, *consistently*, etc being predictors of good ratings. While words like *unsurprizingly* predicting  neutral ratings and *ached* predicting bad ratings. However, in the above tables, more often than not we see words such as rivotril, percocette, etc which are drug/chemical compound names and ideally shouldn't be an indicator whether the drug is performing good or not. We may need to perform a better text preprocessing to counter this issue. It is also possible some of the chemical compund / drug names are consistently associated with poor drugs. In this case, some domain expertise may be needed to evaluate it further."
   ]
  },
  {
   "cell_type": "markdown",
   "metadata": {},
   "source": [
    "## 4 Next Steps\n",
    "While this model gives decent accuracy in predicting the drug rating using the sentiment/content of the reviews, it can be improved upon. A more robust text preprocessing may increase the overall accuracy metric and perhaps employing deep learning techniques may give a further boost to the model performance. <br>\n",
    "  \n",
    "With due respect in an interest of time, this will be my final submission for the coding round. <br>\n",
    "*- AJ (Ajinkya) <br>ajinkya@uw.edu*"
   ]
  },
  {
   "cell_type": "markdown",
   "metadata": {},
   "source": [
    "## Thank You"
   ]
  }
 ],
 "metadata": {
  "kernelspec": {
   "display_name": "Python 3",
   "language": "python",
   "name": "python3"
  },
  "language_info": {
   "codemirror_mode": {
    "name": "ipython",
    "version": 3
   },
   "file_extension": ".py",
   "mimetype": "text/x-python",
   "name": "python",
   "nbconvert_exporter": "python",
   "pygments_lexer": "ipython3",
   "version": "3.7.3"
  }
 },
 "nbformat": 4,
 "nbformat_minor": 2
}
